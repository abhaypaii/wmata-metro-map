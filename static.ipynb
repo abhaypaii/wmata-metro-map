{
 "cells": [
  {
   "cell_type": "code",
   "execution_count": null,
   "metadata": {},
   "outputs": [],
   "source": [
    "import urllib.request\n",
    "import zipfile\n",
    "\n",
    "try:\n",
    "    url = \"https://api.wmata.com/gtfs/rail-gtfs-static.zip\"\n",
    "\n",
    "    hdr ={\n",
    "    # Request headers\n",
    "    'Cache-Control': 'no-cache',\n",
    "    'api_key': 'your-wmata-api-key',\n",
    "    }\n",
    "\n",
    "    req = urllib.request.Request(url, headers=hdr)\n",
    "\n",
    "    req.get_method = lambda: 'GET'\n",
    "    response = urllib.request.urlopen(req)\n",
    "    with open('gtfs_static.zip', 'wb') as f:\n",
    "                f.write(response.read())\n",
    "\n",
    "            # Extract the ZIP contents (optional)\n",
    "    with zipfile.ZipFile('gtfs_static.zip', 'r') as zip_ref:\n",
    "        zip_ref.extractall('.')\n",
    "\n",
    "\n",
    "except Exception as e:\n",
    "    print(e)"
   ]
  }
 ],
 "metadata": {
  "kernelspec": {
   "display_name": ".venv",
   "language": "python",
   "name": "python3"
  },
  "language_info": {
   "codemirror_mode": {
    "name": "ipython",
    "version": 3
   },
   "file_extension": ".py",
   "mimetype": "text/x-python",
   "name": "python",
   "nbconvert_exporter": "python",
   "pygments_lexer": "ipython3",
   "version": "3.11.1"
  }
 },
 "nbformat": 4,
 "nbformat_minor": 2
}
