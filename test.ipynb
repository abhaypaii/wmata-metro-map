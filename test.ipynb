{
 "cells": [
  {
   "cell_type": "code",
   "execution_count": 2,
   "metadata": {},
   "outputs": [],
   "source": [
    "import urllib.request, json\n",
    "from google.transit import gtfs_realtime_pb2\n",
    "from google.protobuf.json_format import MessageToJson \n",
    "import pandas as pd"
   ]
  },
  {
   "cell_type": "code",
   "execution_count": 3,
   "metadata": {},
   "outputs": [],
   "source": [
    "hdr ={\n",
    "# Request headers\n",
    "'Cache-Control': 'no-cache',\n",
    "'api_key': 'c6c3671249fc4598aaaf0853495b851a',\n",
    "}"
   ]
  },
  {
   "cell_type": "code",
   "execution_count": 4,
   "metadata": {},
   "outputs": [],
   "source": [
    "#GTFS-RT\n",
    "\n",
    "def get():\n",
    "    def get_realtime_update():\n",
    "        url = \"https://api.wmata.com/gtfs/rail-gtfsrt-vehiclepositions.pb\"\n",
    "\n",
    "        req = urllib.request.Request(url, headers=hdr)\n",
    "        req.get_method = lambda: 'GET'\n",
    "        response = urllib.request.urlopen(req)\n",
    "\n",
    "        # Parse the protobuf response\n",
    "        feed = gtfs_realtime_pb2.FeedMessage()\n",
    "        feed.ParseFromString(response.read())\n",
    "\n",
    "        # Convert the FeedMessage protobuf object to JSON format\n",
    "        feed_json = MessageToJson(feed)\n",
    "        return feed_json\n",
    "\n",
    "    def get_predictions():\n",
    "        url = \"https://api.wmata.com/StationPrediction.svc/json/GetPrediction/All\"\n",
    "        req = urllib.request.Request(url, headers=hdr)\n",
    "        req.get_method = lambda: 'GET'\n",
    "        response = urllib.request.urlopen(req)\n",
    "        return response.read()\n",
    "    \n",
    "    return json.loads(get_realtime_update()), json.loads(get_predictions())"
   ]
  },
  {
   "cell_type": "code",
   "execution_count": 5,
   "metadata": {},
   "outputs": [],
   "source": [
    "feed_rt, predictions = get()"
   ]
  },
  {
   "cell_type": "code",
   "execution_count": 6,
   "metadata": {},
   "outputs": [],
   "source": [
    "def get_predictions():\n",
    "    url = \"https://api.wmata.com/StationPrediction.svc/json/GetPrediction/All\"\n",
    "    req = urllib.request.Request(url, headers=hdr)\n",
    "    req.get_method = lambda: 'GET'\n",
    "    response = urllib.request.urlopen(req)\n",
    "    return response.read()"
   ]
  },
  {
   "cell_type": "code",
   "execution_count": 7,
   "metadata": {},
   "outputs": [],
   "source": [
    "class Line:\n",
    "    def __init__(self, name, code, color, trains, stations, trips):\n",
    "        self.name = name\n",
    "        self.code = code\n",
    "        self.color = color\n",
    "        self.trains = trains\n",
    "        self.stations = stations  # A list of Station objects\n",
    "        self.trips = trips\n",
    "        #self.predictions = predictions\n",
    "\n",
    "    def __str__(self):\n",
    "        return f\"Line: {self.name}, Color: {self.color}, Code:{self.code} Trains: {self.trains},  Stations: {len(self.stations)}, Trips: {self.trips}\""
   ]
  },
  {
   "cell_type": "code",
   "execution_count": null,
   "metadata": {},
   "outputs": [],
   "source": [
    "trains = feed_rt[\"entity\"]\n",
    "trips = pd.read_csv('trips.txt')\n",
    "stops = pd.read_csv('stops.txt')\n",
    "stop_times = pd.read_csv('stop_times.txt')\n",
    "prediction = predictions[\"Trains\"]\n",
    "prediction = pd.json_normalize(prediction)\n",
    "prediction = prediction[prediction[\"Line\"].isin([\"OR\", \"SV\", \"BL\"])].drop_duplicates()\n",
    "\n",
    "#Initialise line values\n",
    "def lines(name, code):\n",
    "    color = name.upper()\n",
    "    linetrains = []\n",
    "    for train in trains:\n",
    "        if train[\"vehicle\"][\"trip\"][\"routeId\"] == color:\n",
    "            linetrains.append(train)\n",
    "    linetrains = pd.json_normalize(linetrains)\n",
    "    linetrains[\"vehicle.stopId\"] = linetrains[\"vehicle.stopId\"].str[:-2]\n",
    "\n",
    "    trip = trips[trips[\"route_id\"]==color]\n",
    "    times = stop_times[stop_times[\"trip_id\"].isin(trip[\"trip_id\"])]\n",
    "    stations = stops[stops[\"stop_id\"].isin(times[\"stop_id\"])]\n",
    "    stations = stations.drop_duplicates(subset=\"parent_station\", keep=\"first\")\n",
    "    stations[\"stop_name\"] = stations[\"stop_name\"].str.split(\", \").str[0]\n",
    "    stations[\"stop_id\"] = stations[\"stop_id\"].str[:-2]\n",
    "    \n",
    "\n",
    "    line = Line(name, code, color, linetrains, stations, trip)\n",
    "\n",
    "    return line\n",
    "\n",
    "orangeline = lines(\"Orange\", \"OR\")\n",
    "silverline = lines(\"Silver\", \"SV\")\n",
    "blueline = lines(\"Blue\", \"BL\")\n",
    "\n",
    "#Order station list\n",
    "def order_stations(line, filename):\n",
    "    df1 = line.stations\n",
    "    df2 = pd.read_csv(filename)\n",
    "    df2[\"order\"] = df2.index\n",
    "    df2 = df2.rename(columns={\"Stations\":\"stop_name\"})\n",
    "    df2[\"stop_name\"] = df2[\"stop_name\"].str.upper()\n",
    "    stations = pd.merge(df1, df2, on=\"stop_name\").sort_values('order').reset_index().drop(columns=[\"index\", \"order\"])\n",
    "   \n",
    "    return stations\n",
    "\n",
    "silverline.stations = order_stations(silverline, 'ordered_silver_list.txt')\n",
    "orangeline.stations = order_stations(orangeline, 'ordered_orange_list.txt')\n",
    "blueline.stations = order_stations(blueline, 'ordered_blue_list.txt')\n",
    "\n",
    "#Map station values to the next stop ID in trains\n",
    "def next_stop(line):\n",
    "    stations = line.stations\n",
    "\n",
    "    # Create next stop columns using a single shift operation for both IDs and names\n",
    "    stations[['next_stop_id_0', 'next_stop_id_1']] = stations[['stop_id', 'stop_name']].shift(-1).combine_first(stations[['stop_id', 'stop_name']].shift(1))\n",
    "\n",
    "    # Rename columns after shifting to make it clear\n",
    "    stations[\"next_stop_name_0\"] = stations[\"stop_name\"].shift(-1)\n",
    "    stations[\"next_stop_name_1\"] = stations[\"stop_name\"].shift(1)\n",
    "\n",
    "    # Merge trains with stations, focusing on relevant columns to minimize memory usage\n",
    "    trains = pd.merge(\n",
    "        line.trains,\n",
    "        stations[['stop_id', 'stop_name', 'next_stop_name_0', 'next_stop_name_1']],\n",
    "        how='left',\n",
    "        left_on='vehicle.stopId',\n",
    "        right_on='stop_id'\n",
    "    )\n",
    "    \n",
    "    return trains\n",
    "\n",
    "orangeline.trains=next_stop(orangeline)\n",
    "blueline.trains=next_stop(blueline)\n",
    "silverline.trains=next_stop(silverline)\n",
    "\n",
    "def minutes(line, prediction):\n",
    "    stations = line.stations.copy()  # Avoid modifying the original DataFrame\n",
    "    \n",
    "    # Filter and process prediction data\n",
    "    pred = (prediction[prediction[\"Line\"] == line.code]\n",
    "             .groupby(['Group', 'LocationCode', 'LocationName'])['Min']\n",
    "             .apply(list)\n",
    "             .reset_index())\n",
    "    \n",
    "    # Adjust Group values and rename columns for merging\n",
    "    pred['Group'] = pred['Group'].astype(int) - 1\n",
    "    pred = pred.pivot(index='LocationCode', columns='Group', values='Min').reset_index()\n",
    "    pred.columns = ['LocationCode'] + [f'minute{group}' for group in pred.columns[1:]]\n",
    "\n",
    "    # Extract LocationCode from stop_id\n",
    "    stations['LocationCode'] = stations['stop_id'].str[3:]\n",
    "\n",
    "    # Merge prediction results with stations\n",
    "    stations = stations.merge(pred, on='LocationCode', how='left')\n",
    "\n",
    "    return stations\n",
    "\n",
    "orangeline.stations = minutes(orangeline, prediction)\n",
    "silverline.stations = minutes(silverline, prediction)\n",
    "blueline.stations = minutes(blueline, prediction)"
   ]
  },
  {
   "cell_type": "code",
   "execution_count": 9,
   "metadata": {},
   "outputs": [],
   "source": [
    "import plotly.express as px\n",
    "import plotly.graph_objects as go\n",
    "\n",
    "px.set_mapbox_access_token(\"pk.eyJ1IjoiYWJoYXlwYWkiLCJhIjoiY20zOWV3Y2YwMTFlNDJqcHQ0ZmRxemI2ZyJ9.pwqjd5DXqnENZiejOwLR_Q\")"
   ]
  },
  {
   "cell_type": "code",
   "execution_count": 10,
   "metadata": {},
   "outputs": [],
   "source": [
    "def initialize_map(line):\n",
    "        fig = px.scatter_mapbox(line.stations, lat = \"stop_lat\", lon=\"stop_lon\")\n",
    "\n",
    "        # Set layout for Mapbox\n",
    "        fig.update_layout(\n",
    "            autosize=True,\n",
    "            hovermode='closest',\n",
    "            map=dict(\n",
    "                bearing=0,\n",
    "                center=dict(\n",
    "                    lat=38.92,\n",
    "                    lon=-77.07\n",
    "                ),\n",
    "                pitch=0,\n",
    "                zoom=10,\n",
    "                style='light'\n",
    "            ),\n",
    "            showlegend=False,\n",
    "            margin={\"r\":0,\"t\":0,\"l\":0,\"b\":0}  # Remove default margins\n",
    "        )\n",
    "        return fig\n"
   ]
  },
  {
   "cell_type": "code",
   "execution_count": 11,
   "metadata": {},
   "outputs": [],
   "source": [
    "def plot(line, direction):\n",
    "    fig = initialize_map(line)\n",
    "    \n",
    "    def plot_stations(line, direction):\n",
    "        fig.add_trace(go.Scattermap(\n",
    "            lat=line.stations.stop_lat,\n",
    "            lon=line.stations.stop_lon,\n",
    "            mode='markers+text+lines',\n",
    "            marker=go.scattermap.Marker(size=9, color=line.name.lower()),  # Specify a color explicitly\n",
    "            text=line.stations.stop_name,\n",
    "            textfont=dict(size=8, color=\"black\", family=\"Open Sans Bold\")\n",
    "        ))\n",
    "\n",
    "        if direction:\n",
    "            cur = line.stations.iloc[0]\n",
    "            fig.add_trace(go.Scattermap(\n",
    "                lat=[cur.stop_lat],\n",
    "                lon=[cur.stop_lon],\n",
    "                mode='markers+text',\n",
    "                text=\"Destination: \",\n",
    "                textfont=dict(size=11, color=\"black\", family=\"Open Sans Bold\"),\n",
    "                marker=dict(size=20, symbol= \"circle-stroked\", color=\"red\")\n",
    "            ))\n",
    "        else:\n",
    "            cur = line.stations.iloc[-1]\n",
    "            fig.add_trace(go.Scattermap(\n",
    "                lat=[cur.stop_lat],\n",
    "                lon=[cur.stop_lon],\n",
    "                mode='markers+text',\n",
    "                text=\"Destination\",\n",
    "                textfont=dict(size=11, color=\"black\", family=\"Open Sans Bold\"),\n",
    "                marker=dict(size=20, symbol= \"circle-stroked\", color=\"red\")\n",
    "            ))\n",
    "\n",
    "\n",
    "    def plot_trains(line, direction):\n",
    "        trains = line.trains\n",
    "        trains = trains[trains[\"vehicle.trip.directionId\"]==direction]\n",
    "        stopped_trains = trains[trains[\"vehicle.currentStatus\"]==\"STOPPED_AT\"]\n",
    "        trains = trains[trains[\"vehicle.currentStatus\"]!=\"STOPPED_AT\"]\n",
    "\n",
    "        #For stopped trains\n",
    "        fig.add_trace(go.Scattermap(\n",
    "                lat=stopped_trains[\"vehicle.position.latitude\"],\n",
    "                lon=stopped_trains[\"vehicle.position.longitude\"],\n",
    "                mode='markers',\n",
    "                text=stopped_trains[\"vehicle.currentStatus\"]+\" \"+stopped_trains[\"stop_name\"],\n",
    "                marker=dict(size= 16, symbol= \"rail-metro\")\n",
    "            ))\n",
    "        \n",
    "        #For trains in transit\n",
    "        lat = trains[\"vehicle.position.latitude\"]\n",
    "        lon = trains[\"vehicle.position.longitude\"]\n",
    "        if direction:\n",
    "            fig.add_trace(go.Scattermap(\n",
    "                lat=lat,\n",
    "                lon=lon,\n",
    "                mode='markers',\n",
    "                text=trains[\"vehicle.currentStatus\"]+\" \"+trains[\"next_stop_name_1\"],\n",
    "                marker=dict(size= 16, symbol= \"rail-metro\")\n",
    "            ))\n",
    "        else:\n",
    "            fig.add_trace(go.Scattermap(\n",
    "                lat=lat,\n",
    "                lon=lon,\n",
    "                mode='markers',\n",
    "                text=trains[\"vehicle.currentStatus\"]+\" \"+trains[\"next_stop_name_0\"],\n",
    "                hoverinfo=['skip'],\n",
    "                marker=dict(size= 16, symbol= \"rail-metro\")\n",
    "            ))\n",
    "\n",
    "\n",
    "    plot_stations(line, direction)\n",
    "    plot_trains(line, direction)\n",
    "    fig.show()\n"
   ]
  },
  {
   "cell_type": "code",
   "execution_count": 12,
   "metadata": {},
   "outputs": [
    {
     "data": {
      "application/vnd.plotly.v1+json": {
       "config": {
        "plotlyServerURL": "https://plot.ly"
       },
       "data": [
        {
         "hovertemplate": "stop_lat=%{lat}<br>stop_lon=%{lon}<extra></extra>",
         "lat": [
          38.87756961,
          38.88364098,
          38.90082511,
          38.88602258,
          38.88230587,
          38.88347189,
          38.88677835,
          38.89016272,
          38.89602652,
          38.90069215,
          38.90138788,
          38.90138734,
          38.89811104,
          38.89382588,
          38.88845646,
          38.88484,
          38.88506795,
          38.88506533,
          38.88462465,
          38.88126287,
          38.88691895,
          38.89916416,
          38.90821601,
          38.91668297,
          38.9334959,
          38.94802473
         ],
         "legendgroup": "",
         "lon": [
          -77.27246126,
          -77.22724073,
          -77.18922087,
          -77.15694666,
          -77.11321894,
          -77.10305665,
          -77.0954764,
          -77.08709367,
          -77.07084623,
          -77.05010201,
          -77.04046559,
          -77.03342284,
          -77.02808414,
          -77.02812963,
          -77.02854519,
          -77.02208621,
          -77.01593515,
          -77.0052132,
          -76.9960726,
          -76.98557739,
          -76.97707162,
          -76.94673612,
          -76.93516033,
          -76.91668913,
          -76.891263,
          -76.87186586
         ],
         "marker": {
          "color": "#636efa"
         },
         "mode": "markers",
         "name": "",
         "showlegend": false,
         "subplot": "mapbox",
         "type": "scattermapbox"
        },
        {
         "lat": [
          38.87756961,
          38.88364098,
          38.90082511,
          38.88602258,
          38.88230587,
          38.88347189,
          38.88677835,
          38.89016272,
          38.89602652,
          38.90069215,
          38.90138788,
          38.90138734,
          38.89811104,
          38.89382588,
          38.88845646,
          38.88484,
          38.88506795,
          38.88506533,
          38.88462465,
          38.88126287,
          38.88691895,
          38.89916416,
          38.90821601,
          38.91668297,
          38.9334959,
          38.94802473
         ],
         "lon": [
          -77.27246126,
          -77.22724073,
          -77.18922087,
          -77.15694666,
          -77.11321894,
          -77.10305665,
          -77.0954764,
          -77.08709367,
          -77.07084623,
          -77.05010201,
          -77.04046559,
          -77.03342284,
          -77.02808414,
          -77.02812963,
          -77.02854519,
          -77.02208621,
          -77.01593515,
          -77.0052132,
          -76.9960726,
          -76.98557739,
          -76.97707162,
          -76.94673612,
          -76.93516033,
          -76.91668913,
          -76.891263,
          -76.87186586
         ],
         "marker": {
          "color": "orange",
          "size": 9
         },
         "mode": "markers+text+lines",
         "text": [
          "VIENNA FAIRFAX-GMU",
          "DUNN LORING MERRIFIELD",
          "WEST FALLS CHURCH VT/UVA",
          "EAST FALLS CHURCH",
          "BALLSTON-MU",
          "VIRGINIA SQUARE-GMU",
          "CLARENDON",
          "COURT HOUSE",
          "ROSSLYN",
          "FOGGY BOTTOM-GWU",
          "FARRAGUT WEST",
          "MCPHERSON SQUARE",
          "METRO CENTER",
          "FEDERAL TRIANGLE",
          "SMITHSONIAN",
          "L'ENFANT PLAZA",
          "FEDERAL CENTER SW",
          "CAPITOL SOUTH",
          "EASTERN MARKET",
          "POTOMAC AVE",
          "STADIUM-ARMORY",
          "MINNESOTA AVE",
          "DEANWOOD",
          "CHEVERLY",
          "LANDOVER",
          "NEW CARROLLTON"
         ],
         "textfont": {
          "color": "black",
          "family": "Open Sans Bold",
          "size": 8
         },
         "type": "scattermap"
        },
        {
         "lat": [
          38.94802473
         ],
         "lon": [
          -76.87186586
         ],
         "marker": {
          "color": "red",
          "size": 20,
          "symbol": "circle-stroked"
         },
         "mode": "markers+text",
         "text": "Destination",
         "textfont": {
          "color": "black",
          "family": "Open Sans Bold",
          "size": 11
         },
         "type": "scattermap"
        },
        {
         "lat": [
          38.877415,
          38.884586,
          38.90819
         ],
         "lon": [
          -77.273766,
          -76.99611,
          -76.93512
         ],
         "marker": {
          "size": 16,
          "symbol": "rail-metro"
         },
         "mode": "markers",
         "text": [
          "STOPPED_AT VIENNA FAIRFAX-GMU",
          "STOPPED_AT EASTERN MARKET",
          "STOPPED_AT DEANWOOD"
         ],
         "type": "scattermap"
        },
        {
         "hoverinfo": [
          "skip"
         ],
         "lat": [
          38.90037,
          38.882122,
          38.886147
         ],
         "lon": [
          -77.062744,
          -77.116806,
          -77.22053
         ],
         "marker": {
          "size": 16,
          "symbol": "rail-metro"
         },
         "mode": "markers",
         "text": [
          "IN_TRANSIT_TO FOGGY BOTTOM-GWU",
          "IN_TRANSIT_TO BALLSTON-MU",
          "IN_TRANSIT_TO WEST FALLS CHURCH VT/UVA"
         ],
         "type": "scattermap"
        }
       ],
       "layout": {
        "autosize": true,
        "hovermode": "closest",
        "legend": {
         "tracegroupgap": 0
        },
        "map": {
         "bearing": 0,
         "center": {
          "lat": 38.92,
          "lon": -77.07
         },
         "pitch": 0,
         "style": "light",
         "zoom": 10
        },
        "mapbox": {
         "accesstoken": "pk.eyJ1IjoiYWJoYXlwYWkiLCJhIjoiY20zOWV3Y2YwMTFlNDJqcHQ0ZmRxemI2ZyJ9.pwqjd5DXqnENZiejOwLR_Q",
         "center": {
          "lat": 38.89553953461539,
          "lon": -77.04184543923077
         },
         "domain": {
          "x": [
           0,
           1
          ],
          "y": [
           0,
           1
          ]
         },
         "zoom": 8
        },
        "margin": {
         "b": 0,
         "l": 0,
         "r": 0,
         "t": 0
        },
        "showlegend": false,
        "template": {
         "data": {
          "bar": [
           {
            "error_x": {
             "color": "#2a3f5f"
            },
            "error_y": {
             "color": "#2a3f5f"
            },
            "marker": {
             "line": {
              "color": "#E5ECF6",
              "width": 0.5
             },
             "pattern": {
              "fillmode": "overlay",
              "size": 10,
              "solidity": 0.2
             }
            },
            "type": "bar"
           }
          ],
          "barpolar": [
           {
            "marker": {
             "line": {
              "color": "#E5ECF6",
              "width": 0.5
             },
             "pattern": {
              "fillmode": "overlay",
              "size": 10,
              "solidity": 0.2
             }
            },
            "type": "barpolar"
           }
          ],
          "carpet": [
           {
            "aaxis": {
             "endlinecolor": "#2a3f5f",
             "gridcolor": "white",
             "linecolor": "white",
             "minorgridcolor": "white",
             "startlinecolor": "#2a3f5f"
            },
            "baxis": {
             "endlinecolor": "#2a3f5f",
             "gridcolor": "white",
             "linecolor": "white",
             "minorgridcolor": "white",
             "startlinecolor": "#2a3f5f"
            },
            "type": "carpet"
           }
          ],
          "choropleth": [
           {
            "colorbar": {
             "outlinewidth": 0,
             "ticks": ""
            },
            "type": "choropleth"
           }
          ],
          "contour": [
           {
            "colorbar": {
             "outlinewidth": 0,
             "ticks": ""
            },
            "colorscale": [
             [
              0,
              "#0d0887"
             ],
             [
              0.1111111111111111,
              "#46039f"
             ],
             [
              0.2222222222222222,
              "#7201a8"
             ],
             [
              0.3333333333333333,
              "#9c179e"
             ],
             [
              0.4444444444444444,
              "#bd3786"
             ],
             [
              0.5555555555555556,
              "#d8576b"
             ],
             [
              0.6666666666666666,
              "#ed7953"
             ],
             [
              0.7777777777777778,
              "#fb9f3a"
             ],
             [
              0.8888888888888888,
              "#fdca26"
             ],
             [
              1,
              "#f0f921"
             ]
            ],
            "type": "contour"
           }
          ],
          "contourcarpet": [
           {
            "colorbar": {
             "outlinewidth": 0,
             "ticks": ""
            },
            "type": "contourcarpet"
           }
          ],
          "heatmap": [
           {
            "colorbar": {
             "outlinewidth": 0,
             "ticks": ""
            },
            "colorscale": [
             [
              0,
              "#0d0887"
             ],
             [
              0.1111111111111111,
              "#46039f"
             ],
             [
              0.2222222222222222,
              "#7201a8"
             ],
             [
              0.3333333333333333,
              "#9c179e"
             ],
             [
              0.4444444444444444,
              "#bd3786"
             ],
             [
              0.5555555555555556,
              "#d8576b"
             ],
             [
              0.6666666666666666,
              "#ed7953"
             ],
             [
              0.7777777777777778,
              "#fb9f3a"
             ],
             [
              0.8888888888888888,
              "#fdca26"
             ],
             [
              1,
              "#f0f921"
             ]
            ],
            "type": "heatmap"
           }
          ],
          "heatmapgl": [
           {
            "colorbar": {
             "outlinewidth": 0,
             "ticks": ""
            },
            "colorscale": [
             [
              0,
              "#0d0887"
             ],
             [
              0.1111111111111111,
              "#46039f"
             ],
             [
              0.2222222222222222,
              "#7201a8"
             ],
             [
              0.3333333333333333,
              "#9c179e"
             ],
             [
              0.4444444444444444,
              "#bd3786"
             ],
             [
              0.5555555555555556,
              "#d8576b"
             ],
             [
              0.6666666666666666,
              "#ed7953"
             ],
             [
              0.7777777777777778,
              "#fb9f3a"
             ],
             [
              0.8888888888888888,
              "#fdca26"
             ],
             [
              1,
              "#f0f921"
             ]
            ],
            "type": "heatmapgl"
           }
          ],
          "histogram": [
           {
            "marker": {
             "pattern": {
              "fillmode": "overlay",
              "size": 10,
              "solidity": 0.2
             }
            },
            "type": "histogram"
           }
          ],
          "histogram2d": [
           {
            "colorbar": {
             "outlinewidth": 0,
             "ticks": ""
            },
            "colorscale": [
             [
              0,
              "#0d0887"
             ],
             [
              0.1111111111111111,
              "#46039f"
             ],
             [
              0.2222222222222222,
              "#7201a8"
             ],
             [
              0.3333333333333333,
              "#9c179e"
             ],
             [
              0.4444444444444444,
              "#bd3786"
             ],
             [
              0.5555555555555556,
              "#d8576b"
             ],
             [
              0.6666666666666666,
              "#ed7953"
             ],
             [
              0.7777777777777778,
              "#fb9f3a"
             ],
             [
              0.8888888888888888,
              "#fdca26"
             ],
             [
              1,
              "#f0f921"
             ]
            ],
            "type": "histogram2d"
           }
          ],
          "histogram2dcontour": [
           {
            "colorbar": {
             "outlinewidth": 0,
             "ticks": ""
            },
            "colorscale": [
             [
              0,
              "#0d0887"
             ],
             [
              0.1111111111111111,
              "#46039f"
             ],
             [
              0.2222222222222222,
              "#7201a8"
             ],
             [
              0.3333333333333333,
              "#9c179e"
             ],
             [
              0.4444444444444444,
              "#bd3786"
             ],
             [
              0.5555555555555556,
              "#d8576b"
             ],
             [
              0.6666666666666666,
              "#ed7953"
             ],
             [
              0.7777777777777778,
              "#fb9f3a"
             ],
             [
              0.8888888888888888,
              "#fdca26"
             ],
             [
              1,
              "#f0f921"
             ]
            ],
            "type": "histogram2dcontour"
           }
          ],
          "mesh3d": [
           {
            "colorbar": {
             "outlinewidth": 0,
             "ticks": ""
            },
            "type": "mesh3d"
           }
          ],
          "parcoords": [
           {
            "line": {
             "colorbar": {
              "outlinewidth": 0,
              "ticks": ""
             }
            },
            "type": "parcoords"
           }
          ],
          "pie": [
           {
            "automargin": true,
            "type": "pie"
           }
          ],
          "scatter": [
           {
            "fillpattern": {
             "fillmode": "overlay",
             "size": 10,
             "solidity": 0.2
            },
            "type": "scatter"
           }
          ],
          "scatter3d": [
           {
            "line": {
             "colorbar": {
              "outlinewidth": 0,
              "ticks": ""
             }
            },
            "marker": {
             "colorbar": {
              "outlinewidth": 0,
              "ticks": ""
             }
            },
            "type": "scatter3d"
           }
          ],
          "scattercarpet": [
           {
            "marker": {
             "colorbar": {
              "outlinewidth": 0,
              "ticks": ""
             }
            },
            "type": "scattercarpet"
           }
          ],
          "scattergeo": [
           {
            "marker": {
             "colorbar": {
              "outlinewidth": 0,
              "ticks": ""
             }
            },
            "type": "scattergeo"
           }
          ],
          "scattergl": [
           {
            "marker": {
             "colorbar": {
              "outlinewidth": 0,
              "ticks": ""
             }
            },
            "type": "scattergl"
           }
          ],
          "scattermapbox": [
           {
            "marker": {
             "colorbar": {
              "outlinewidth": 0,
              "ticks": ""
             }
            },
            "type": "scattermapbox"
           }
          ],
          "scatterpolar": [
           {
            "marker": {
             "colorbar": {
              "outlinewidth": 0,
              "ticks": ""
             }
            },
            "type": "scatterpolar"
           }
          ],
          "scatterpolargl": [
           {
            "marker": {
             "colorbar": {
              "outlinewidth": 0,
              "ticks": ""
             }
            },
            "type": "scatterpolargl"
           }
          ],
          "scatterternary": [
           {
            "marker": {
             "colorbar": {
              "outlinewidth": 0,
              "ticks": ""
             }
            },
            "type": "scatterternary"
           }
          ],
          "surface": [
           {
            "colorbar": {
             "outlinewidth": 0,
             "ticks": ""
            },
            "colorscale": [
             [
              0,
              "#0d0887"
             ],
             [
              0.1111111111111111,
              "#46039f"
             ],
             [
              0.2222222222222222,
              "#7201a8"
             ],
             [
              0.3333333333333333,
              "#9c179e"
             ],
             [
              0.4444444444444444,
              "#bd3786"
             ],
             [
              0.5555555555555556,
              "#d8576b"
             ],
             [
              0.6666666666666666,
              "#ed7953"
             ],
             [
              0.7777777777777778,
              "#fb9f3a"
             ],
             [
              0.8888888888888888,
              "#fdca26"
             ],
             [
              1,
              "#f0f921"
             ]
            ],
            "type": "surface"
           }
          ],
          "table": [
           {
            "cells": {
             "fill": {
              "color": "#EBF0F8"
             },
             "line": {
              "color": "white"
             }
            },
            "header": {
             "fill": {
              "color": "#C8D4E3"
             },
             "line": {
              "color": "white"
             }
            },
            "type": "table"
           }
          ]
         },
         "layout": {
          "annotationdefaults": {
           "arrowcolor": "#2a3f5f",
           "arrowhead": 0,
           "arrowwidth": 1
          },
          "autotypenumbers": "strict",
          "coloraxis": {
           "colorbar": {
            "outlinewidth": 0,
            "ticks": ""
           }
          },
          "colorscale": {
           "diverging": [
            [
             0,
             "#8e0152"
            ],
            [
             0.1,
             "#c51b7d"
            ],
            [
             0.2,
             "#de77ae"
            ],
            [
             0.3,
             "#f1b6da"
            ],
            [
             0.4,
             "#fde0ef"
            ],
            [
             0.5,
             "#f7f7f7"
            ],
            [
             0.6,
             "#e6f5d0"
            ],
            [
             0.7,
             "#b8e186"
            ],
            [
             0.8,
             "#7fbc41"
            ],
            [
             0.9,
             "#4d9221"
            ],
            [
             1,
             "#276419"
            ]
           ],
           "sequential": [
            [
             0,
             "#0d0887"
            ],
            [
             0.1111111111111111,
             "#46039f"
            ],
            [
             0.2222222222222222,
             "#7201a8"
            ],
            [
             0.3333333333333333,
             "#9c179e"
            ],
            [
             0.4444444444444444,
             "#bd3786"
            ],
            [
             0.5555555555555556,
             "#d8576b"
            ],
            [
             0.6666666666666666,
             "#ed7953"
            ],
            [
             0.7777777777777778,
             "#fb9f3a"
            ],
            [
             0.8888888888888888,
             "#fdca26"
            ],
            [
             1,
             "#f0f921"
            ]
           ],
           "sequentialminus": [
            [
             0,
             "#0d0887"
            ],
            [
             0.1111111111111111,
             "#46039f"
            ],
            [
             0.2222222222222222,
             "#7201a8"
            ],
            [
             0.3333333333333333,
             "#9c179e"
            ],
            [
             0.4444444444444444,
             "#bd3786"
            ],
            [
             0.5555555555555556,
             "#d8576b"
            ],
            [
             0.6666666666666666,
             "#ed7953"
            ],
            [
             0.7777777777777778,
             "#fb9f3a"
            ],
            [
             0.8888888888888888,
             "#fdca26"
            ],
            [
             1,
             "#f0f921"
            ]
           ]
          },
          "colorway": [
           "#636efa",
           "#EF553B",
           "#00cc96",
           "#ab63fa",
           "#FFA15A",
           "#19d3f3",
           "#FF6692",
           "#B6E880",
           "#FF97FF",
           "#FECB52"
          ],
          "font": {
           "color": "#2a3f5f"
          },
          "geo": {
           "bgcolor": "white",
           "lakecolor": "white",
           "landcolor": "#E5ECF6",
           "showlakes": true,
           "showland": true,
           "subunitcolor": "white"
          },
          "hoverlabel": {
           "align": "left"
          },
          "hovermode": "closest",
          "mapbox": {
           "style": "light"
          },
          "paper_bgcolor": "white",
          "plot_bgcolor": "#E5ECF6",
          "polar": {
           "angularaxis": {
            "gridcolor": "white",
            "linecolor": "white",
            "ticks": ""
           },
           "bgcolor": "#E5ECF6",
           "radialaxis": {
            "gridcolor": "white",
            "linecolor": "white",
            "ticks": ""
           }
          },
          "scene": {
           "xaxis": {
            "backgroundcolor": "#E5ECF6",
            "gridcolor": "white",
            "gridwidth": 2,
            "linecolor": "white",
            "showbackground": true,
            "ticks": "",
            "zerolinecolor": "white"
           },
           "yaxis": {
            "backgroundcolor": "#E5ECF6",
            "gridcolor": "white",
            "gridwidth": 2,
            "linecolor": "white",
            "showbackground": true,
            "ticks": "",
            "zerolinecolor": "white"
           },
           "zaxis": {
            "backgroundcolor": "#E5ECF6",
            "gridcolor": "white",
            "gridwidth": 2,
            "linecolor": "white",
            "showbackground": true,
            "ticks": "",
            "zerolinecolor": "white"
           }
          },
          "shapedefaults": {
           "line": {
            "color": "#2a3f5f"
           }
          },
          "ternary": {
           "aaxis": {
            "gridcolor": "white",
            "linecolor": "white",
            "ticks": ""
           },
           "baxis": {
            "gridcolor": "white",
            "linecolor": "white",
            "ticks": ""
           },
           "bgcolor": "#E5ECF6",
           "caxis": {
            "gridcolor": "white",
            "linecolor": "white",
            "ticks": ""
           }
          },
          "title": {
           "x": 0.05
          },
          "xaxis": {
           "automargin": true,
           "gridcolor": "white",
           "linecolor": "white",
           "ticks": "",
           "title": {
            "standoff": 15
           },
           "zerolinecolor": "white",
           "zerolinewidth": 2
          },
          "yaxis": {
           "automargin": true,
           "gridcolor": "white",
           "linecolor": "white",
           "ticks": "",
           "title": {
            "standoff": 15
           },
           "zerolinecolor": "white",
           "zerolinewidth": 2
          }
         }
        }
       }
      }
     },
     "metadata": {},
     "output_type": "display_data"
    }
   ],
   "source": [
    "plot(orangeline, 0)"
   ]
  },
  {
   "cell_type": "code",
   "execution_count": 17,
   "metadata": {},
   "outputs": [
    {
     "data": {
      "text/html": [
       "<div>\n",
       "<style scoped>\n",
       "    .dataframe tbody tr th:only-of-type {\n",
       "        vertical-align: middle;\n",
       "    }\n",
       "\n",
       "    .dataframe tbody tr th {\n",
       "        vertical-align: top;\n",
       "    }\n",
       "\n",
       "    .dataframe thead th {\n",
       "        text-align: right;\n",
       "    }\n",
       "</style>\n",
       "<table border=\"1\" class=\"dataframe\">\n",
       "  <thead>\n",
       "    <tr style=\"text-align: right;\">\n",
       "      <th></th>\n",
       "      <th>stop_id</th>\n",
       "      <th>stop_name</th>\n",
       "      <th>stop_desc</th>\n",
       "      <th>stop_lat</th>\n",
       "      <th>stop_lon</th>\n",
       "      <th>zone_id</th>\n",
       "      <th>location_type</th>\n",
       "      <th>parent_station</th>\n",
       "      <th>wheelchair_boarding</th>\n",
       "      <th>level_id</th>\n",
       "      <th>next_stop_id_0</th>\n",
       "      <th>next_stop_id_1</th>\n",
       "      <th>next_stop_name_0</th>\n",
       "      <th>next_stop_name_1</th>\n",
       "      <th>LocationCode</th>\n",
       "    </tr>\n",
       "  </thead>\n",
       "  <tbody>\n",
       "    <tr>\n",
       "      <th>0</th>\n",
       "      <td>PF_J03</td>\n",
       "      <td>FRANCONIA-SPRINGFIELD</td>\n",
       "      <td>Blue Line to DOWNTOWN LARGO</td>\n",
       "      <td>38.766498</td>\n",
       "      <td>-77.167989</td>\n",
       "      <td>1</td>\n",
       "      <td>0</td>\n",
       "      <td>STN_J03</td>\n",
       "      <td>1</td>\n",
       "      <td>J03_L1</td>\n",
       "      <td>PF_J02</td>\n",
       "      <td>VAN DORN STREET</td>\n",
       "      <td>VAN DORN STREET</td>\n",
       "      <td>None</td>\n",
       "      <td>J03</td>\n",
       "    </tr>\n",
       "    <tr>\n",
       "      <th>1</th>\n",
       "      <td>PF_J02</td>\n",
       "      <td>VAN DORN STREET</td>\n",
       "      <td>Blue Line to Downtown Largo | to Franconia-Spr...</td>\n",
       "      <td>38.799285</td>\n",
       "      <td>-77.129266</td>\n",
       "      <td>71</td>\n",
       "      <td>0</td>\n",
       "      <td>STN_J02</td>\n",
       "      <td>1</td>\n",
       "      <td>J02_L1</td>\n",
       "      <td>PF_C13</td>\n",
       "      <td>KING ST-OLD TOWN</td>\n",
       "      <td>KING ST-OLD TOWN</td>\n",
       "      <td>FRANCONIA-SPRINGFIELD</td>\n",
       "      <td>J02</td>\n",
       "    </tr>\n",
       "    <tr>\n",
       "      <th>2</th>\n",
       "      <td>PF_C13</td>\n",
       "      <td>KING ST-OLD TOWN</td>\n",
       "      <td>Blue/Yellow Line to Downtown Largo/Fort Totten...</td>\n",
       "      <td>38.806597</td>\n",
       "      <td>-77.060968</td>\n",
       "      <td>1</td>\n",
       "      <td>0</td>\n",
       "      <td>STN_C13</td>\n",
       "      <td>1</td>\n",
       "      <td>C13_L1</td>\n",
       "      <td>PF_C12</td>\n",
       "      <td>BRADDOCK ROAD</td>\n",
       "      <td>BRADDOCK ROAD</td>\n",
       "      <td>VAN DORN STREET</td>\n",
       "      <td>C13</td>\n",
       "    </tr>\n",
       "    <tr>\n",
       "      <th>3</th>\n",
       "      <td>PF_C12</td>\n",
       "      <td>BRADDOCK ROAD</td>\n",
       "      <td>Blue/Yellow Line to Downtown Largo/Fort Totten...</td>\n",
       "      <td>38.814079</td>\n",
       "      <td>-77.053719</td>\n",
       "      <td>7</td>\n",
       "      <td>0</td>\n",
       "      <td>STN_C12</td>\n",
       "      <td>1</td>\n",
       "      <td>C12_L1</td>\n",
       "      <td>PF_C11</td>\n",
       "      <td>POTOMAC YARD/VT</td>\n",
       "      <td>POTOMAC YARD/VT</td>\n",
       "      <td>KING ST-OLD TOWN</td>\n",
       "      <td>C12</td>\n",
       "    </tr>\n",
       "    <tr>\n",
       "      <th>4</th>\n",
       "      <td>PF_C11</td>\n",
       "      <td>POTOMAC YARD/VT</td>\n",
       "      <td>Blue/Yellow Line to Franconia-Springfield/Hunt...</td>\n",
       "      <td>38.833199</td>\n",
       "      <td>-77.046494</td>\n",
       "      <td>1</td>\n",
       "      <td>0</td>\n",
       "      <td>STN_C11</td>\n",
       "      <td>1</td>\n",
       "      <td>C11_L1</td>\n",
       "      <td>PF_C10</td>\n",
       "      <td>RONALD REAGAN WASHINGTON NATIONAL AIRPORT</td>\n",
       "      <td>RONALD REAGAN WASHINGTON NATIONAL AIRPORT</td>\n",
       "      <td>BRADDOCK ROAD</td>\n",
       "      <td>C11</td>\n",
       "    </tr>\n",
       "    <tr>\n",
       "      <th>5</th>\n",
       "      <td>PF_C10</td>\n",
       "      <td>RONALD REAGAN WASHINGTON NATIONAL AIRPORT</td>\n",
       "      <td>Blue/Yellow Line to Franconia-Springfield/Hunt...</td>\n",
       "      <td>38.853485</td>\n",
       "      <td>-77.044094</td>\n",
       "      <td>11</td>\n",
       "      <td>0</td>\n",
       "      <td>STN_C10</td>\n",
       "      <td>1</td>\n",
       "      <td>C10_L1</td>\n",
       "      <td>PF_C09</td>\n",
       "      <td>CRYSTAL CITY</td>\n",
       "      <td>CRYSTAL CITY</td>\n",
       "      <td>POTOMAC YARD/VT</td>\n",
       "      <td>C10</td>\n",
       "    </tr>\n",
       "    <tr>\n",
       "      <th>6</th>\n",
       "      <td>PF_C09</td>\n",
       "      <td>CRYSTAL CITY</td>\n",
       "      <td>Blue/Yellow Line to Downtown Largo/Fort Totten</td>\n",
       "      <td>38.857786</td>\n",
       "      <td>-77.050559</td>\n",
       "      <td>11</td>\n",
       "      <td>0</td>\n",
       "      <td>STN_C09</td>\n",
       "      <td>1</td>\n",
       "      <td>C09_L2</td>\n",
       "      <td>PF_C08</td>\n",
       "      <td>PENTAGON CITY</td>\n",
       "      <td>PENTAGON CITY</td>\n",
       "      <td>RONALD REAGAN WASHINGTON NATIONAL AIRPORT</td>\n",
       "      <td>C09</td>\n",
       "    </tr>\n",
       "    <tr>\n",
       "      <th>7</th>\n",
       "      <td>PF_C08</td>\n",
       "      <td>PENTAGON CITY</td>\n",
       "      <td>Blue/Yellow Line to Franconia-Springfield/Hunt...</td>\n",
       "      <td>38.861852</td>\n",
       "      <td>-77.059582</td>\n",
       "      <td>43</td>\n",
       "      <td>0</td>\n",
       "      <td>STN_C08</td>\n",
       "      <td>1</td>\n",
       "      <td>C08_L2</td>\n",
       "      <td>PF_C07</td>\n",
       "      <td>PENTAGON</td>\n",
       "      <td>PENTAGON</td>\n",
       "      <td>CRYSTAL CITY</td>\n",
       "      <td>C08</td>\n",
       "    </tr>\n",
       "    <tr>\n",
       "      <th>8</th>\n",
       "      <td>PF_C07</td>\n",
       "      <td>PENTAGON</td>\n",
       "      <td>Blue/Yellow Line to Franconia-Springfield/Hunt...</td>\n",
       "      <td>38.869198</td>\n",
       "      <td>-77.054128</td>\n",
       "      <td>42</td>\n",
       "      <td>0</td>\n",
       "      <td>STN_C07</td>\n",
       "      <td>1</td>\n",
       "      <td>C07_L2</td>\n",
       "      <td>PF_C06</td>\n",
       "      <td>ARLINGTON CEMETERY</td>\n",
       "      <td>ARLINGTON CEMETERY</td>\n",
       "      <td>PENTAGON CITY</td>\n",
       "      <td>C07</td>\n",
       "    </tr>\n",
       "    <tr>\n",
       "      <th>9</th>\n",
       "      <td>PF_C06</td>\n",
       "      <td>ARLINGTON CEMETERY</td>\n",
       "      <td>Blue Line to Franconia-Springfield</td>\n",
       "      <td>38.884558</td>\n",
       "      <td>-77.063163</td>\n",
       "      <td>3</td>\n",
       "      <td>0</td>\n",
       "      <td>STN_C06</td>\n",
       "      <td>1</td>\n",
       "      <td>C06_L2</td>\n",
       "      <td>PF_C05</td>\n",
       "      <td>ROSSLYN</td>\n",
       "      <td>ROSSLYN</td>\n",
       "      <td>PENTAGON</td>\n",
       "      <td>C06</td>\n",
       "    </tr>\n",
       "    <tr>\n",
       "      <th>10</th>\n",
       "      <td>PF_C05</td>\n",
       "      <td>ROSSLYN</td>\n",
       "      <td>Orange/Silver Line to Vienna/Wiehle-Reston East</td>\n",
       "      <td>38.896027</td>\n",
       "      <td>-77.070846</td>\n",
       "      <td>11</td>\n",
       "      <td>0</td>\n",
       "      <td>STN_C05</td>\n",
       "      <td>1</td>\n",
       "      <td>C05_L2</td>\n",
       "      <td>PF_C04</td>\n",
       "      <td>FOGGY BOTTOM-GWU</td>\n",
       "      <td>FOGGY BOTTOM-GWU</td>\n",
       "      <td>ARLINGTON CEMETERY</td>\n",
       "      <td>C05</td>\n",
       "    </tr>\n",
       "    <tr>\n",
       "      <th>11</th>\n",
       "      <td>PF_C04</td>\n",
       "      <td>FOGGY BOTTOM-GWU</td>\n",
       "      <td>Blue/Orange/Silver to Downtown Largo/New Carro...</td>\n",
       "      <td>38.900692</td>\n",
       "      <td>-77.050102</td>\n",
       "      <td>10</td>\n",
       "      <td>0</td>\n",
       "      <td>STN_C04</td>\n",
       "      <td>1</td>\n",
       "      <td>C04_L2</td>\n",
       "      <td>PF_C03</td>\n",
       "      <td>FARRAGUT WEST</td>\n",
       "      <td>FARRAGUT WEST</td>\n",
       "      <td>ROSSLYN</td>\n",
       "      <td>C04</td>\n",
       "    </tr>\n",
       "    <tr>\n",
       "      <th>12</th>\n",
       "      <td>PF_C03</td>\n",
       "      <td>FARRAGUT WEST</td>\n",
       "      <td>Blue/Orange/Silver Line to Franconia-Springfie...</td>\n",
       "      <td>38.901388</td>\n",
       "      <td>-77.040466</td>\n",
       "      <td>10</td>\n",
       "      <td>0</td>\n",
       "      <td>STN_C03</td>\n",
       "      <td>1</td>\n",
       "      <td>C03_L2</td>\n",
       "      <td>PF_C02</td>\n",
       "      <td>MCPHERSON SQUARE</td>\n",
       "      <td>MCPHERSON SQUARE</td>\n",
       "      <td>FOGGY BOTTOM-GWU</td>\n",
       "      <td>C03</td>\n",
       "    </tr>\n",
       "    <tr>\n",
       "      <th>13</th>\n",
       "      <td>PF_C02</td>\n",
       "      <td>MCPHERSON SQUARE</td>\n",
       "      <td>Blue/Orange/Silver Line to Franconia-Springfie...</td>\n",
       "      <td>38.901387</td>\n",
       "      <td>-77.033423</td>\n",
       "      <td>10</td>\n",
       "      <td>0</td>\n",
       "      <td>STN_C02</td>\n",
       "      <td>1</td>\n",
       "      <td>C02_L2</td>\n",
       "      <td>PF_C01</td>\n",
       "      <td>METRO CENTER</td>\n",
       "      <td>METRO CENTER</td>\n",
       "      <td>FARRAGUT WEST</td>\n",
       "      <td>C02</td>\n",
       "    </tr>\n",
       "    <tr>\n",
       "      <th>14</th>\n",
       "      <td>PF_C01</td>\n",
       "      <td>METRO CENTER</td>\n",
       "      <td>Blue/Orange/Silver Line to Downtown Largo/New ...</td>\n",
       "      <td>38.898111</td>\n",
       "      <td>-77.028084</td>\n",
       "      <td>10</td>\n",
       "      <td>0</td>\n",
       "      <td>STN_A01_C01</td>\n",
       "      <td>1</td>\n",
       "      <td>A01_C01_L2</td>\n",
       "      <td>PF_D01</td>\n",
       "      <td>FEDERAL TRIANGLE</td>\n",
       "      <td>FEDERAL TRIANGLE</td>\n",
       "      <td>MCPHERSON SQUARE</td>\n",
       "      <td>C01</td>\n",
       "    </tr>\n",
       "    <tr>\n",
       "      <th>15</th>\n",
       "      <td>PF_D01</td>\n",
       "      <td>FEDERAL TRIANGLE</td>\n",
       "      <td>Blue/Orange/Silver Line to Downtown Largo/New ...</td>\n",
       "      <td>38.893826</td>\n",
       "      <td>-77.028130</td>\n",
       "      <td>10</td>\n",
       "      <td>0</td>\n",
       "      <td>STN_D01</td>\n",
       "      <td>1</td>\n",
       "      <td>D01_L3</td>\n",
       "      <td>PF_D02</td>\n",
       "      <td>SMITHSONIAN</td>\n",
       "      <td>SMITHSONIAN</td>\n",
       "      <td>METRO CENTER</td>\n",
       "      <td>D01</td>\n",
       "    </tr>\n",
       "    <tr>\n",
       "      <th>16</th>\n",
       "      <td>PF_D02</td>\n",
       "      <td>SMITHSONIAN</td>\n",
       "      <td>Blue/Orange/Silver Line to Franconia-Springfie...</td>\n",
       "      <td>38.888456</td>\n",
       "      <td>-77.028545</td>\n",
       "      <td>50</td>\n",
       "      <td>0</td>\n",
       "      <td>STN_D02</td>\n",
       "      <td>1</td>\n",
       "      <td>D02_L2</td>\n",
       "      <td>PF_D03</td>\n",
       "      <td>L'ENFANT PLAZA</td>\n",
       "      <td>L'ENFANT PLAZA</td>\n",
       "      <td>FEDERAL TRIANGLE</td>\n",
       "      <td>D02</td>\n",
       "    </tr>\n",
       "    <tr>\n",
       "      <th>17</th>\n",
       "      <td>PF_D03</td>\n",
       "      <td>L'ENFANT PLAZA</td>\n",
       "      <td>Blue/Orange/Silver Line to Downtown Largo/New ...</td>\n",
       "      <td>38.884840</td>\n",
       "      <td>-77.022086</td>\n",
       "      <td>10</td>\n",
       "      <td>0</td>\n",
       "      <td>STN_D03_F03</td>\n",
       "      <td>1</td>\n",
       "      <td>D03_F03_L2</td>\n",
       "      <td>PF_D04</td>\n",
       "      <td>FEDERAL CENTER SW</td>\n",
       "      <td>FEDERAL CENTER SW</td>\n",
       "      <td>SMITHSONIAN</td>\n",
       "      <td>D03</td>\n",
       "    </tr>\n",
       "    <tr>\n",
       "      <th>18</th>\n",
       "      <td>PF_D04</td>\n",
       "      <td>FEDERAL CENTER SW</td>\n",
       "      <td>Blue/Orange/Silver Line to Downtown Largo/ New...</td>\n",
       "      <td>38.885068</td>\n",
       "      <td>-77.015935</td>\n",
       "      <td>10</td>\n",
       "      <td>0</td>\n",
       "      <td>STN_D04</td>\n",
       "      <td>1</td>\n",
       "      <td>D04_L2</td>\n",
       "      <td>PF_D05</td>\n",
       "      <td>CAPITOL SOUTH</td>\n",
       "      <td>CAPITOL SOUTH</td>\n",
       "      <td>L'ENFANT PLAZA</td>\n",
       "      <td>D04</td>\n",
       "    </tr>\n",
       "    <tr>\n",
       "      <th>19</th>\n",
       "      <td>PF_D05</td>\n",
       "      <td>CAPITOL SOUTH</td>\n",
       "      <td>Blue/Orange/Silver Line to Downtown Largo/New ...</td>\n",
       "      <td>38.885065</td>\n",
       "      <td>-77.005213</td>\n",
       "      <td>10</td>\n",
       "      <td>0</td>\n",
       "      <td>STN_D05</td>\n",
       "      <td>1</td>\n",
       "      <td>D05_L2</td>\n",
       "      <td>PF_D06</td>\n",
       "      <td>EASTERN MARKET</td>\n",
       "      <td>EASTERN MARKET</td>\n",
       "      <td>FEDERAL CENTER SW</td>\n",
       "      <td>D05</td>\n",
       "    </tr>\n",
       "    <tr>\n",
       "      <th>20</th>\n",
       "      <td>PF_D06</td>\n",
       "      <td>EASTERN MARKET</td>\n",
       "      <td>Blue/Orange/Silver to Downtown Largo/New Carro...</td>\n",
       "      <td>38.884625</td>\n",
       "      <td>-76.996073</td>\n",
       "      <td>10</td>\n",
       "      <td>0</td>\n",
       "      <td>STN_D06</td>\n",
       "      <td>1</td>\n",
       "      <td>D06_L2</td>\n",
       "      <td>PF_D07</td>\n",
       "      <td>POTOMAC AVE</td>\n",
       "      <td>POTOMAC AVE</td>\n",
       "      <td>CAPITOL SOUTH</td>\n",
       "      <td>D06</td>\n",
       "    </tr>\n",
       "    <tr>\n",
       "      <th>21</th>\n",
       "      <td>PF_D07</td>\n",
       "      <td>POTOMAC AVE</td>\n",
       "      <td>Blue/Orange/Silver Line to Downtown Largo/New ...</td>\n",
       "      <td>38.881263</td>\n",
       "      <td>-76.985577</td>\n",
       "      <td>10</td>\n",
       "      <td>0</td>\n",
       "      <td>STN_D07</td>\n",
       "      <td>1</td>\n",
       "      <td>D07_L2</td>\n",
       "      <td>PF_D08</td>\n",
       "      <td>STADIUM-ARMORY</td>\n",
       "      <td>STADIUM-ARMORY</td>\n",
       "      <td>EASTERN MARKET</td>\n",
       "      <td>D07</td>\n",
       "    </tr>\n",
       "    <tr>\n",
       "      <th>22</th>\n",
       "      <td>PF_D08</td>\n",
       "      <td>STADIUM-ARMORY</td>\n",
       "      <td>Blue/Orange/Silver Line to Downtown Largo/New ...</td>\n",
       "      <td>38.886919</td>\n",
       "      <td>-76.977072</td>\n",
       "      <td>10</td>\n",
       "      <td>0</td>\n",
       "      <td>STN_D08</td>\n",
       "      <td>1</td>\n",
       "      <td>D08_L2</td>\n",
       "      <td>PF_G01</td>\n",
       "      <td>BENNING ROAD</td>\n",
       "      <td>BENNING ROAD</td>\n",
       "      <td>POTOMAC AVE</td>\n",
       "      <td>D08</td>\n",
       "    </tr>\n",
       "    <tr>\n",
       "      <th>23</th>\n",
       "      <td>PF_G01</td>\n",
       "      <td>BENNING ROAD</td>\n",
       "      <td>Blue/Silver Line to Downtown Largo | to Franco...</td>\n",
       "      <td>38.891061</td>\n",
       "      <td>-76.938617</td>\n",
       "      <td>10</td>\n",
       "      <td>0</td>\n",
       "      <td>STN_G01</td>\n",
       "      <td>1</td>\n",
       "      <td>G01_L2</td>\n",
       "      <td>PF_G02</td>\n",
       "      <td>CAPITOL HEIGHTS</td>\n",
       "      <td>CAPITOL HEIGHTS</td>\n",
       "      <td>STADIUM-ARMORY</td>\n",
       "      <td>G01</td>\n",
       "    </tr>\n",
       "    <tr>\n",
       "      <th>24</th>\n",
       "      <td>PF_G02</td>\n",
       "      <td>CAPITOL HEIGHTS</td>\n",
       "      <td>Blue/Silver Line to Downtown Largo | to Franco...</td>\n",
       "      <td>38.889421</td>\n",
       "      <td>-76.911831</td>\n",
       "      <td>5</td>\n",
       "      <td>0</td>\n",
       "      <td>STN_G02</td>\n",
       "      <td>1</td>\n",
       "      <td>G02_L2</td>\n",
       "      <td>PF_G03</td>\n",
       "      <td>ADDISON ROAD-SEAT PLEASANT</td>\n",
       "      <td>ADDISON ROAD-SEAT PLEASANT</td>\n",
       "      <td>BENNING ROAD</td>\n",
       "      <td>G02</td>\n",
       "    </tr>\n",
       "    <tr>\n",
       "      <th>25</th>\n",
       "      <td>PF_G03</td>\n",
       "      <td>ADDISON ROAD-SEAT PLEASANT</td>\n",
       "      <td>Blue/Silver Line to Downtown Largo | to Franco...</td>\n",
       "      <td>38.886723</td>\n",
       "      <td>-76.894132</td>\n",
       "      <td>1</td>\n",
       "      <td>0</td>\n",
       "      <td>STN_G03</td>\n",
       "      <td>1</td>\n",
       "      <td>G03_L1</td>\n",
       "      <td>PF_G04</td>\n",
       "      <td>MORGAN BOULEVARD</td>\n",
       "      <td>MORGAN BOULEVARD</td>\n",
       "      <td>CAPITOL HEIGHTS</td>\n",
       "      <td>G03</td>\n",
       "    </tr>\n",
       "    <tr>\n",
       "      <th>26</th>\n",
       "      <td>PF_G04</td>\n",
       "      <td>MORGAN BOULEVARD</td>\n",
       "      <td>Blue/Silver Line to Downtown Largo | to Franco...</td>\n",
       "      <td>38.893993</td>\n",
       "      <td>-76.867705</td>\n",
       "      <td>85</td>\n",
       "      <td>0</td>\n",
       "      <td>STN_G04</td>\n",
       "      <td>1</td>\n",
       "      <td>G04_L1</td>\n",
       "      <td>PF_G05</td>\n",
       "      <td>DOWNTOWN LARGO</td>\n",
       "      <td>DOWNTOWN LARGO</td>\n",
       "      <td>ADDISON ROAD-SEAT PLEASANT</td>\n",
       "      <td>G04</td>\n",
       "    </tr>\n",
       "    <tr>\n",
       "      <th>27</th>\n",
       "      <td>PF_G05</td>\n",
       "      <td>DOWNTOWN LARGO</td>\n",
       "      <td>Blue/Silver Line to Franconia-Springfield/Wieh...</td>\n",
       "      <td>38.900503</td>\n",
       "      <td>-76.844652</td>\n",
       "      <td>86</td>\n",
       "      <td>0</td>\n",
       "      <td>STN_G05</td>\n",
       "      <td>1</td>\n",
       "      <td>G05_L2</td>\n",
       "      <td>PF_G04</td>\n",
       "      <td>MORGAN BOULEVARD</td>\n",
       "      <td>None</td>\n",
       "      <td>MORGAN BOULEVARD</td>\n",
       "      <td>G05</td>\n",
       "    </tr>\n",
       "  </tbody>\n",
       "</table>\n",
       "</div>"
      ],
      "text/plain": [
       "   stop_id                                  stop_name  \\\n",
       "0   PF_J03                      FRANCONIA-SPRINGFIELD   \n",
       "1   PF_J02                            VAN DORN STREET   \n",
       "2   PF_C13                           KING ST-OLD TOWN   \n",
       "3   PF_C12                              BRADDOCK ROAD   \n",
       "4   PF_C11                            POTOMAC YARD/VT   \n",
       "5   PF_C10  RONALD REAGAN WASHINGTON NATIONAL AIRPORT   \n",
       "6   PF_C09                               CRYSTAL CITY   \n",
       "7   PF_C08                              PENTAGON CITY   \n",
       "8   PF_C07                                   PENTAGON   \n",
       "9   PF_C06                         ARLINGTON CEMETERY   \n",
       "10  PF_C05                                    ROSSLYN   \n",
       "11  PF_C04                           FOGGY BOTTOM-GWU   \n",
       "12  PF_C03                              FARRAGUT WEST   \n",
       "13  PF_C02                           MCPHERSON SQUARE   \n",
       "14  PF_C01                               METRO CENTER   \n",
       "15  PF_D01                           FEDERAL TRIANGLE   \n",
       "16  PF_D02                                SMITHSONIAN   \n",
       "17  PF_D03                             L'ENFANT PLAZA   \n",
       "18  PF_D04                          FEDERAL CENTER SW   \n",
       "19  PF_D05                              CAPITOL SOUTH   \n",
       "20  PF_D06                             EASTERN MARKET   \n",
       "21  PF_D07                                POTOMAC AVE   \n",
       "22  PF_D08                             STADIUM-ARMORY   \n",
       "23  PF_G01                               BENNING ROAD   \n",
       "24  PF_G02                            CAPITOL HEIGHTS   \n",
       "25  PF_G03                 ADDISON ROAD-SEAT PLEASANT   \n",
       "26  PF_G04                           MORGAN BOULEVARD   \n",
       "27  PF_G05                             DOWNTOWN LARGO   \n",
       "\n",
       "                                            stop_desc   stop_lat   stop_lon  \\\n",
       "0                         Blue Line to DOWNTOWN LARGO  38.766498 -77.167989   \n",
       "1   Blue Line to Downtown Largo | to Franconia-Spr...  38.799285 -77.129266   \n",
       "2   Blue/Yellow Line to Downtown Largo/Fort Totten...  38.806597 -77.060968   \n",
       "3   Blue/Yellow Line to Downtown Largo/Fort Totten...  38.814079 -77.053719   \n",
       "4   Blue/Yellow Line to Franconia-Springfield/Hunt...  38.833199 -77.046494   \n",
       "5   Blue/Yellow Line to Franconia-Springfield/Hunt...  38.853485 -77.044094   \n",
       "6      Blue/Yellow Line to Downtown Largo/Fort Totten  38.857786 -77.050559   \n",
       "7   Blue/Yellow Line to Franconia-Springfield/Hunt...  38.861852 -77.059582   \n",
       "8   Blue/Yellow Line to Franconia-Springfield/Hunt...  38.869198 -77.054128   \n",
       "9                  Blue Line to Franconia-Springfield  38.884558 -77.063163   \n",
       "10    Orange/Silver Line to Vienna/Wiehle-Reston East  38.896027 -77.070846   \n",
       "11  Blue/Orange/Silver to Downtown Largo/New Carro...  38.900692 -77.050102   \n",
       "12  Blue/Orange/Silver Line to Franconia-Springfie...  38.901388 -77.040466   \n",
       "13  Blue/Orange/Silver Line to Franconia-Springfie...  38.901387 -77.033423   \n",
       "14  Blue/Orange/Silver Line to Downtown Largo/New ...  38.898111 -77.028084   \n",
       "15  Blue/Orange/Silver Line to Downtown Largo/New ...  38.893826 -77.028130   \n",
       "16  Blue/Orange/Silver Line to Franconia-Springfie...  38.888456 -77.028545   \n",
       "17  Blue/Orange/Silver Line to Downtown Largo/New ...  38.884840 -77.022086   \n",
       "18  Blue/Orange/Silver Line to Downtown Largo/ New...  38.885068 -77.015935   \n",
       "19  Blue/Orange/Silver Line to Downtown Largo/New ...  38.885065 -77.005213   \n",
       "20  Blue/Orange/Silver to Downtown Largo/New Carro...  38.884625 -76.996073   \n",
       "21  Blue/Orange/Silver Line to Downtown Largo/New ...  38.881263 -76.985577   \n",
       "22  Blue/Orange/Silver Line to Downtown Largo/New ...  38.886919 -76.977072   \n",
       "23  Blue/Silver Line to Downtown Largo | to Franco...  38.891061 -76.938617   \n",
       "24  Blue/Silver Line to Downtown Largo | to Franco...  38.889421 -76.911831   \n",
       "25  Blue/Silver Line to Downtown Largo | to Franco...  38.886723 -76.894132   \n",
       "26  Blue/Silver Line to Downtown Largo | to Franco...  38.893993 -76.867705   \n",
       "27  Blue/Silver Line to Franconia-Springfield/Wieh...  38.900503 -76.844652   \n",
       "\n",
       "    zone_id  location_type parent_station  wheelchair_boarding    level_id  \\\n",
       "0         1              0        STN_J03                    1      J03_L1   \n",
       "1        71              0        STN_J02                    1      J02_L1   \n",
       "2         1              0        STN_C13                    1      C13_L1   \n",
       "3         7              0        STN_C12                    1      C12_L1   \n",
       "4         1              0        STN_C11                    1      C11_L1   \n",
       "5        11              0        STN_C10                    1      C10_L1   \n",
       "6        11              0        STN_C09                    1      C09_L2   \n",
       "7        43              0        STN_C08                    1      C08_L2   \n",
       "8        42              0        STN_C07                    1      C07_L2   \n",
       "9         3              0        STN_C06                    1      C06_L2   \n",
       "10       11              0        STN_C05                    1      C05_L2   \n",
       "11       10              0        STN_C04                    1      C04_L2   \n",
       "12       10              0        STN_C03                    1      C03_L2   \n",
       "13       10              0        STN_C02                    1      C02_L2   \n",
       "14       10              0    STN_A01_C01                    1  A01_C01_L2   \n",
       "15       10              0        STN_D01                    1      D01_L3   \n",
       "16       50              0        STN_D02                    1      D02_L2   \n",
       "17       10              0    STN_D03_F03                    1  D03_F03_L2   \n",
       "18       10              0        STN_D04                    1      D04_L2   \n",
       "19       10              0        STN_D05                    1      D05_L2   \n",
       "20       10              0        STN_D06                    1      D06_L2   \n",
       "21       10              0        STN_D07                    1      D07_L2   \n",
       "22       10              0        STN_D08                    1      D08_L2   \n",
       "23       10              0        STN_G01                    1      G01_L2   \n",
       "24        5              0        STN_G02                    1      G02_L2   \n",
       "25        1              0        STN_G03                    1      G03_L1   \n",
       "26       85              0        STN_G04                    1      G04_L1   \n",
       "27       86              0        STN_G05                    1      G05_L2   \n",
       "\n",
       "   next_stop_id_0                             next_stop_id_1  \\\n",
       "0          PF_J02                            VAN DORN STREET   \n",
       "1          PF_C13                           KING ST-OLD TOWN   \n",
       "2          PF_C12                              BRADDOCK ROAD   \n",
       "3          PF_C11                            POTOMAC YARD/VT   \n",
       "4          PF_C10  RONALD REAGAN WASHINGTON NATIONAL AIRPORT   \n",
       "5          PF_C09                               CRYSTAL CITY   \n",
       "6          PF_C08                              PENTAGON CITY   \n",
       "7          PF_C07                                   PENTAGON   \n",
       "8          PF_C06                         ARLINGTON CEMETERY   \n",
       "9          PF_C05                                    ROSSLYN   \n",
       "10         PF_C04                           FOGGY BOTTOM-GWU   \n",
       "11         PF_C03                              FARRAGUT WEST   \n",
       "12         PF_C02                           MCPHERSON SQUARE   \n",
       "13         PF_C01                               METRO CENTER   \n",
       "14         PF_D01                           FEDERAL TRIANGLE   \n",
       "15         PF_D02                                SMITHSONIAN   \n",
       "16         PF_D03                             L'ENFANT PLAZA   \n",
       "17         PF_D04                          FEDERAL CENTER SW   \n",
       "18         PF_D05                              CAPITOL SOUTH   \n",
       "19         PF_D06                             EASTERN MARKET   \n",
       "20         PF_D07                                POTOMAC AVE   \n",
       "21         PF_D08                             STADIUM-ARMORY   \n",
       "22         PF_G01                               BENNING ROAD   \n",
       "23         PF_G02                            CAPITOL HEIGHTS   \n",
       "24         PF_G03                 ADDISON ROAD-SEAT PLEASANT   \n",
       "25         PF_G04                           MORGAN BOULEVARD   \n",
       "26         PF_G05                             DOWNTOWN LARGO   \n",
       "27         PF_G04                           MORGAN BOULEVARD   \n",
       "\n",
       "                             next_stop_name_0  \\\n",
       "0                             VAN DORN STREET   \n",
       "1                            KING ST-OLD TOWN   \n",
       "2                               BRADDOCK ROAD   \n",
       "3                             POTOMAC YARD/VT   \n",
       "4   RONALD REAGAN WASHINGTON NATIONAL AIRPORT   \n",
       "5                                CRYSTAL CITY   \n",
       "6                               PENTAGON CITY   \n",
       "7                                    PENTAGON   \n",
       "8                          ARLINGTON CEMETERY   \n",
       "9                                     ROSSLYN   \n",
       "10                           FOGGY BOTTOM-GWU   \n",
       "11                              FARRAGUT WEST   \n",
       "12                           MCPHERSON SQUARE   \n",
       "13                               METRO CENTER   \n",
       "14                           FEDERAL TRIANGLE   \n",
       "15                                SMITHSONIAN   \n",
       "16                             L'ENFANT PLAZA   \n",
       "17                          FEDERAL CENTER SW   \n",
       "18                              CAPITOL SOUTH   \n",
       "19                             EASTERN MARKET   \n",
       "20                                POTOMAC AVE   \n",
       "21                             STADIUM-ARMORY   \n",
       "22                               BENNING ROAD   \n",
       "23                            CAPITOL HEIGHTS   \n",
       "24                 ADDISON ROAD-SEAT PLEASANT   \n",
       "25                           MORGAN BOULEVARD   \n",
       "26                             DOWNTOWN LARGO   \n",
       "27                                       None   \n",
       "\n",
       "                             next_stop_name_1 LocationCode  \n",
       "0                                        None          J03  \n",
       "1                       FRANCONIA-SPRINGFIELD          J02  \n",
       "2                             VAN DORN STREET          C13  \n",
       "3                            KING ST-OLD TOWN          C12  \n",
       "4                               BRADDOCK ROAD          C11  \n",
       "5                             POTOMAC YARD/VT          C10  \n",
       "6   RONALD REAGAN WASHINGTON NATIONAL AIRPORT          C09  \n",
       "7                                CRYSTAL CITY          C08  \n",
       "8                               PENTAGON CITY          C07  \n",
       "9                                    PENTAGON          C06  \n",
       "10                         ARLINGTON CEMETERY          C05  \n",
       "11                                    ROSSLYN          C04  \n",
       "12                           FOGGY BOTTOM-GWU          C03  \n",
       "13                              FARRAGUT WEST          C02  \n",
       "14                           MCPHERSON SQUARE          C01  \n",
       "15                               METRO CENTER          D01  \n",
       "16                           FEDERAL TRIANGLE          D02  \n",
       "17                                SMITHSONIAN          D03  \n",
       "18                             L'ENFANT PLAZA          D04  \n",
       "19                          FEDERAL CENTER SW          D05  \n",
       "20                              CAPITOL SOUTH          D06  \n",
       "21                             EASTERN MARKET          D07  \n",
       "22                                POTOMAC AVE          D08  \n",
       "23                             STADIUM-ARMORY          G01  \n",
       "24                               BENNING ROAD          G02  \n",
       "25                            CAPITOL HEIGHTS          G03  \n",
       "26                 ADDISON ROAD-SEAT PLEASANT          G04  \n",
       "27                           MORGAN BOULEVARD          G05  "
      ]
     },
     "execution_count": 17,
     "metadata": {},
     "output_type": "execute_result"
    }
   ],
   "source": [
    "blueline.stations"
   ]
  }
 ],
 "metadata": {
  "kernelspec": {
   "display_name": ".venv",
   "language": "python",
   "name": "python3"
  },
  "language_info": {
   "codemirror_mode": {
    "name": "ipython",
    "version": 3
   },
   "file_extension": ".py",
   "mimetype": "text/x-python",
   "name": "python",
   "nbconvert_exporter": "python",
   "pygments_lexer": "ipython3",
   "version": "3.11.1"
  }
 },
 "nbformat": 4,
 "nbformat_minor": 2
}
